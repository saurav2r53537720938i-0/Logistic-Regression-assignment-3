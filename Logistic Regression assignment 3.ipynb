{
 "cells": [
  {
   "cell_type": "markdown",
   "id": "ad4a35f1-2bfb-4baf-849b-f6d16bf63744",
   "metadata": {},
   "source": [
    "Precsion and recall are two important metrics used to evluate the performance of classfication models especially in scenrios where the classes are imbalanced:\n",
    "1. Precsion:Precsion measure the accuracy of postive predctions made by the model.it is the ratio true postive predctions to the total number of postive predction to the total number words,precsion answer the question out of all the instances predctied as postive how manyy are actually postive.\n",
    "2. Recall: Recall also know as senstivity or true postive rate,measure the model's ablity to identify all relevant instances specifically the proportion of true postives that were correctly identify all relvant instances answer the question."
   ]
  },
  {
   "cell_type": "markdown",
   "id": "6e0e6fa6-5472-4b7f-af12-fa0a2dc8c8ff",
   "metadata": {},
   "source": [
    "The F1 score is a metric used to evluate the performance of a classfication model it balance both precsion and reccall to provide a single score that indicates oveall model perfomance.Precsion is ratio of true postive predction to the total number of postive predction made by the model it measure the accuracy of the postives predction.Recall also know as senstvity is the ratio of true postive predction to the total number of actual postive instances in the dataset it measure the ablity of the model to identify all relevant instances."
   ]
  },
  {
   "cell_type": "markdown",
   "id": "6b67b124-1277-47ba-b9e2-2ab60ae4542a",
   "metadata": {},
   "source": [
    "ROC(Reciver operating charterstics) curve and AUC(area under the roc curve are tools used to evluate the performance of classfications model:\n",
    "1. ROC Curve: It is a plot of the true postive rate(TPR)against the false postive rate(FPR) for diffrent threshold values TPR is also known as senstvity or recall and FPR is the complemnet of specfiy pair corresponding to a particular decsion threshold .The curve shows the trade off between senstvity and specficity.\n",
    "2. AUC(Area under the roc curve):it quantifies the overall performance of a binary classfication model. The AUC reprsent the probality that a randomly chosen postives samples AUC ranges from 0 to 1 where  a higher value indicates better performance suggest random guessing while an UC"
   ]
  },
  {
   "cell_type": "markdown",
   "id": "082e4776-15a9-4411-b30c-4afeb7b6d79b",
   "metadata": {},
   "source": [
    "Choosing the best metric to evluate the performance of a classfication models depends on sevral factors including the nature of the problebm the specfic goals of the application and the chartrestics of the dataset are some guidelines to consider when slectiing evluation metrics:\n",
    "1. Nature of the Problem\n",
    "2. Class imbalance\n",
    "3. Cost and consquences of errors\n",
    "4. Business objective\n",
    "5. Model interpretablity\n",
    "6. Cross-valdiation and validation stragey\n",
    "7. Domain knowldge"
   ]
  },
  {
   "cell_type": "markdown",
   "id": "d5089eb5-15b5-4e35-982d-cac862ebeab8",
   "metadata": {},
   "source": [
    "Logistic regression is a binary classfication algorthim,meaning it is designed to predictt binaryy outcomes however  it can be extended to handles multiclass classfication task through various techniques here are two common approaches:\n",
    "1. One-vs-Rest\n",
    "2. Multinomial logistic Regression"
   ]
  },
  {
   "cell_type": "markdown",
   "id": "5ba2ce3a-9c90-4a38-90c2-9ee15f269925",
   "metadata": {},
   "source": [
    "Model deployment refers to the process of making a machine learning model avilable for use  in a production enviroment where it can genrate predction or make decsion based on new data it involves packaging the trained model along with any necessaary preprocessing steps deploying it to a server or cloud infrastructure and creating an interface for users or other system to interact:\n",
    "1. Scalalblity\n",
    "2. Accessiblity\n",
    "3. Continous improvement\n",
    "4. Cost-Efficency\n",
    "5. Intergration"
   ]
  },
  {
   "cell_type": "markdown",
   "id": "96904c1e-3f29-47da-892d-54185c925ec4",
   "metadata": {},
   "source": [
    "Multi-cloud platforms refer to the use of multiple cloud service provider simultanesouly to deploy and manage various componntes of an application includiing machine learning models.Here how multi-cloud platforms are used for the model deployment:\n",
    "1. Flexblity and Redundancy\n",
    "2. Vendor"
   ]
  }
 ],
 "metadata": {
  "kernelspec": {
   "display_name": "Python 3 (ipykernel)",
   "language": "python",
   "name": "python3"
  },
  "language_info": {
   "codemirror_mode": {
    "name": "ipython",
    "version": 3
   },
   "file_extension": ".py",
   "mimetype": "text/x-python",
   "name": "python",
   "nbconvert_exporter": "python",
   "pygments_lexer": "ipython3",
   "version": "3.10.8"
  }
 },
 "nbformat": 4,
 "nbformat_minor": 5
}
